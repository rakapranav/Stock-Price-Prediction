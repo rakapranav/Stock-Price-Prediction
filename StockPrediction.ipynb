{
 "cells": [
  {
   "cell_type": "code",
   "execution_count": 2,
   "metadata": {},
   "outputs": [
    {
     "name": "stderr",
     "output_type": "stream",
     "text": [
      "C:\\Users\\rakap\\Anaconda3\\lib\\site-packages\\pandas_datareader\\compat\\__init__.py:7: FutureWarning: pandas.util.testing is deprecated. Use the functions in the public API at pandas.testing instead.\n",
      "  from pandas.util.testing import assert_frame_equal\n",
      "Using TensorFlow backend.\n"
     ]
    }
   ],
   "source": [
    "#Import the libraries\n",
    "import math\n",
    "import pandas_datareader as web\n",
    "import numpy as np\n",
    "import pandas as pd\n",
    "from sklearn.preprocessing import MinMaxScaler\n",
    "from keras.models import Sequential\n",
    "from keras.layers import Dense, LSTM\n",
    "import matplotlib.pyplot as plt\n",
    "plt.style.use('fivethirtyeight')"
   ]
  },
  {
   "cell_type": "code",
   "execution_count": 3,
   "metadata": {},
   "outputs": [],
   "source": [
    "data = web.DataReader('^NSEI', data_source='yahoo', start='2011-01-01', end='2020-04-17')"
   ]
  },
  {
   "cell_type": "code",
   "execution_count": 4,
   "metadata": {},
   "outputs": [
    {
     "data": {
      "text/html": [
       "<div>\n",
       "<style scoped>\n",
       "    .dataframe tbody tr th:only-of-type {\n",
       "        vertical-align: middle;\n",
       "    }\n",
       "\n",
       "    .dataframe tbody tr th {\n",
       "        vertical-align: top;\n",
       "    }\n",
       "\n",
       "    .dataframe thead th {\n",
       "        text-align: right;\n",
       "    }\n",
       "</style>\n",
       "<table border=\"1\" class=\"dataframe\">\n",
       "  <thead>\n",
       "    <tr style=\"text-align: right;\">\n",
       "      <th></th>\n",
       "      <th>High</th>\n",
       "      <th>Low</th>\n",
       "      <th>Open</th>\n",
       "      <th>Close</th>\n",
       "      <th>Volume</th>\n",
       "      <th>Adj Close</th>\n",
       "    </tr>\n",
       "    <tr>\n",
       "      <th>Date</th>\n",
       "      <th></th>\n",
       "      <th></th>\n",
       "      <th></th>\n",
       "      <th></th>\n",
       "      <th></th>\n",
       "      <th></th>\n",
       "    </tr>\n",
       "  </thead>\n",
       "  <tbody>\n",
       "    <tr>\n",
       "      <th>2011-01-03</th>\n",
       "      <td>6178.549805</td>\n",
       "      <td>6147.200195</td>\n",
       "      <td>6177.450195</td>\n",
       "      <td>6157.600098</td>\n",
       "      <td>0.0</td>\n",
       "      <td>6157.600098</td>\n",
       "    </tr>\n",
       "    <tr>\n",
       "      <th>2011-01-04</th>\n",
       "      <td>6181.049805</td>\n",
       "      <td>6124.399902</td>\n",
       "      <td>6172.750000</td>\n",
       "      <td>6146.350098</td>\n",
       "      <td>0.0</td>\n",
       "      <td>6146.350098</td>\n",
       "    </tr>\n",
       "    <tr>\n",
       "      <th>2011-01-05</th>\n",
       "      <td>6141.350098</td>\n",
       "      <td>6062.350098</td>\n",
       "      <td>6141.350098</td>\n",
       "      <td>6079.799805</td>\n",
       "      <td>0.0</td>\n",
       "      <td>6079.799805</td>\n",
       "    </tr>\n",
       "    <tr>\n",
       "      <th>2011-01-06</th>\n",
       "      <td>6116.149902</td>\n",
       "      <td>6022.299805</td>\n",
       "      <td>6107.000000</td>\n",
       "      <td>6048.250000</td>\n",
       "      <td>0.0</td>\n",
       "      <td>6048.250000</td>\n",
       "    </tr>\n",
       "    <tr>\n",
       "      <th>2011-01-07</th>\n",
       "      <td>6051.200195</td>\n",
       "      <td>5883.600098</td>\n",
       "      <td>6030.899902</td>\n",
       "      <td>5904.600098</td>\n",
       "      <td>0.0</td>\n",
       "      <td>5904.600098</td>\n",
       "    </tr>\n",
       "    <tr>\n",
       "      <th>...</th>\n",
       "      <td>...</td>\n",
       "      <td>...</td>\n",
       "      <td>...</td>\n",
       "      <td>...</td>\n",
       "      <td>...</td>\n",
       "      <td>...</td>\n",
       "    </tr>\n",
       "    <tr>\n",
       "      <th>2020-04-09</th>\n",
       "      <td>9128.349609</td>\n",
       "      <td>8904.549805</td>\n",
       "      <td>8973.049805</td>\n",
       "      <td>9111.900391</td>\n",
       "      <td>742100.0</td>\n",
       "      <td>9111.900391</td>\n",
       "    </tr>\n",
       "    <tr>\n",
       "      <th>2020-04-13</th>\n",
       "      <td>9112.049805</td>\n",
       "      <td>8912.400391</td>\n",
       "      <td>9103.950195</td>\n",
       "      <td>8993.849609</td>\n",
       "      <td>644000.0</td>\n",
       "      <td>8993.849609</td>\n",
       "    </tr>\n",
       "    <tr>\n",
       "      <th>2020-04-15</th>\n",
       "      <td>9261.200195</td>\n",
       "      <td>8874.099609</td>\n",
       "      <td>9196.400391</td>\n",
       "      <td>8925.299805</td>\n",
       "      <td>879100.0</td>\n",
       "      <td>8925.299805</td>\n",
       "    </tr>\n",
       "    <tr>\n",
       "      <th>2020-04-16</th>\n",
       "      <td>9053.750000</td>\n",
       "      <td>8821.900391</td>\n",
       "      <td>8851.250000</td>\n",
       "      <td>8992.799805</td>\n",
       "      <td>719400.0</td>\n",
       "      <td>8992.799805</td>\n",
       "    </tr>\n",
       "    <tr>\n",
       "      <th>2020-04-17</th>\n",
       "      <td>9324.000000</td>\n",
       "      <td>9091.349609</td>\n",
       "      <td>9323.450195</td>\n",
       "      <td>9266.750000</td>\n",
       "      <td>684200.0</td>\n",
       "      <td>9266.750000</td>\n",
       "    </tr>\n",
       "  </tbody>\n",
       "</table>\n",
       "<p>2267 rows × 6 columns</p>\n",
       "</div>"
      ],
      "text/plain": [
       "                   High          Low         Open        Close    Volume  \\\n",
       "Date                                                                       \n",
       "2011-01-03  6178.549805  6147.200195  6177.450195  6157.600098       0.0   \n",
       "2011-01-04  6181.049805  6124.399902  6172.750000  6146.350098       0.0   \n",
       "2011-01-05  6141.350098  6062.350098  6141.350098  6079.799805       0.0   \n",
       "2011-01-06  6116.149902  6022.299805  6107.000000  6048.250000       0.0   \n",
       "2011-01-07  6051.200195  5883.600098  6030.899902  5904.600098       0.0   \n",
       "...                 ...          ...          ...          ...       ...   \n",
       "2020-04-09  9128.349609  8904.549805  8973.049805  9111.900391  742100.0   \n",
       "2020-04-13  9112.049805  8912.400391  9103.950195  8993.849609  644000.0   \n",
       "2020-04-15  9261.200195  8874.099609  9196.400391  8925.299805  879100.0   \n",
       "2020-04-16  9053.750000  8821.900391  8851.250000  8992.799805  719400.0   \n",
       "2020-04-17  9324.000000  9091.349609  9323.450195  9266.750000  684200.0   \n",
       "\n",
       "              Adj Close  \n",
       "Date                     \n",
       "2011-01-03  6157.600098  \n",
       "2011-01-04  6146.350098  \n",
       "2011-01-05  6079.799805  \n",
       "2011-01-06  6048.250000  \n",
       "2011-01-07  5904.600098  \n",
       "...                 ...  \n",
       "2020-04-09  9111.900391  \n",
       "2020-04-13  8993.849609  \n",
       "2020-04-15  8925.299805  \n",
       "2020-04-16  8992.799805  \n",
       "2020-04-17  9266.750000  \n",
       "\n",
       "[2267 rows x 6 columns]"
      ]
     },
     "execution_count": 4,
     "metadata": {},
     "output_type": "execute_result"
    }
   ],
   "source": [
    "data"
   ]
  },
  {
   "cell_type": "code",
   "execution_count": 5,
   "metadata": {},
   "outputs": [
    {
     "data": {
      "text/plain": [
       "(2267, 6)"
      ]
     },
     "execution_count": 5,
     "metadata": {},
     "output_type": "execute_result"
    }
   ],
   "source": [
    "data.shape"
   ]
  },
  {
   "cell_type": "code",
   "execution_count": 6,
   "metadata": {},
   "outputs": [
    {
     "data": {
      "image/png": "[encoded data removed]",
      "text/plain": [
       "<Figure size 1152x576 with 1 Axes>"
      ]
     },
     "metadata": {},
     "output_type": "display_data"
    }
   ],
   "source": [
    "#Visualize the closing price history\n",
    "plt.figure(figsize=(16,8))\n",
    "plt.title('Close Price History')\n",
    "plt.plot(data['Close'])\n",
    "plt.xlabel('Date', fontsize=18)\n",
    "plt.ylabel('Close Price (Rs)', fontsize=18)\n",
    "plt.show()"
   ]
  },
  {
   "cell_type": "code",
   "execution_count": 7,
   "metadata": {},
   "outputs": [
    {
     "data": {
      "text/plain": [
       "1814"
      ]
     },
     "execution_count": 7,
     "metadata": {},
     "output_type": "execute_result"
    }
   ],
   "source": [
    "#Create a new dataframe with only the 'Close column\n",
    "data = data.filter(['Close'])\n",
    "#Convert the dataframe to a numpy array\n",
    "dataset = data.values\n",
    "#Get the number of rows to train the model on\n",
    "training_data_len = math.ceil( len(dataset) * .8 )\n",
    "\n",
    "training_data_len"
   ]
  },
  {
   "cell_type": "code",
   "execution_count": 8,
   "metadata": {},
   "outputs": [
    {
     "data": {
      "text/plain": [
       "array([[0.20636727],\n",
       "       [0.20492831],\n",
       "       [0.19641597],\n",
       "       ...,\n",
       "       [0.5603791 ],\n",
       "       [0.56901291],\n",
       "       [0.60405342]])"
      ]
     },
     "execution_count": 8,
     "metadata": {},
     "output_type": "execute_result"
    }
   ],
   "source": [
    "#Scale the data\n",
    "scaler = MinMaxScaler(feature_range=(0,1))\n",
    "scaled_data = scaler.fit_transform(dataset)\n",
    "\n",
    "scaled_data"
   ]
  },
  {
   "cell_type": "code",
   "execution_count": 9,
   "metadata": {},
   "outputs": [
    {
     "name": "stdout",
     "output_type": "stream",
     "text": [
      "[array([0.20636727, 0.20492831, 0.19641597, 0.19238049, 0.17400647,\n",
      "       0.15587546, 0.15475627, 0.16871745, 0.15447484, 0.14202296,\n",
      "       0.14204856, 0.15091258, 0.14669161, 0.14932016, 0.14738873,\n",
      "       0.15336845, 0.14622476, 0.13559556, 0.12380882, 0.1230094 ,\n",
      "       0.11166396, 0.11355698, 0.1256763 , 0.10892031, 0.10895228,\n",
      "       0.09827831, 0.09073172, 0.08718226, 0.09795217, 0.11662678,\n",
      "       0.11982449, 0.11991405, 0.12819612, 0.11700414, 0.12463386,\n",
      "       0.1183152 , 0.11424131, 0.09190213, 0.09712713, 0.10092604,\n",
      "       0.12510708, 0.12688506, 0.1272112 , 0.11754131, 0.12491522,\n",
      "       0.12621991, 0.12153845, 0.11527737, 0.12628386, 0.11581455,\n",
      "       0.12368091, 0.11543083, 0.10609995, 0.10495515, 0.11123546,\n",
      "       0.11972856, 0.12511988, 0.14198461, 0.14620558, 0.15248589])]\n",
      "[0.15904756515767315]\n",
      "\n",
      "[array([0.20636727, 0.20492831, 0.19641597, 0.19238049, 0.17400647,\n",
      "       0.15587546, 0.15475627, 0.16871745, 0.15447484, 0.14202296,\n",
      "       0.14204856, 0.15091258, 0.14669161, 0.14932016, 0.14738873,\n",
      "       0.15336845, 0.14622476, 0.13559556, 0.12380882, 0.1230094 ,\n",
      "       0.11166396, 0.11355698, 0.1256763 , 0.10892031, 0.10895228,\n",
      "       0.09827831, 0.09073172, 0.08718226, 0.09795217, 0.11662678,\n",
      "       0.11982449, 0.11991405, 0.12819612, 0.11700414, 0.12463386,\n",
      "       0.1183152 , 0.11424131, 0.09190213, 0.09712713, 0.10092604,\n",
      "       0.12510708, 0.12688506, 0.1272112 , 0.11754131, 0.12491522,\n",
      "       0.12621991, 0.12153845, 0.11527737, 0.12628386, 0.11581455,\n",
      "       0.12368091, 0.11543083, 0.10609995, 0.10495515, 0.11123546,\n",
      "       0.11972856, 0.12511988, 0.14198461, 0.14620558, 0.15248589]), array([0.20492831, 0.19641597, 0.19238049, 0.17400647, 0.15587546,\n",
      "       0.15475627, 0.16871745, 0.15447484, 0.14202296, 0.14204856,\n",
      "       0.15091258, 0.14669161, 0.14932016, 0.14738873, 0.15336845,\n",
      "       0.14622476, 0.13559556, 0.12380882, 0.1230094 , 0.11166396,\n",
      "       0.11355698, 0.1256763 , 0.10892031, 0.10895228, 0.09827831,\n",
      "       0.09073172, 0.08718226, 0.09795217, 0.11662678, 0.11982449,\n",
      "       0.11991405, 0.12819612, 0.11700414, 0.12463386, 0.1183152 ,\n",
      "       0.11424131, 0.09190213, 0.09712713, 0.10092604, 0.12510708,\n",
      "       0.12688506, 0.1272112 , 0.11754131, 0.12491522, 0.12621991,\n",
      "       0.12153845, 0.11527737, 0.12628386, 0.11581455, 0.12368091,\n",
      "       0.11543083, 0.10609995, 0.10495515, 0.11123546, 0.11972856,\n",
      "       0.12511988, 0.14198461, 0.14620558, 0.15248589, 0.15904757])]\n",
      "[0.15904756515767315, 0.1649441512795703]\n",
      "\n"
     ]
    }
   ],
   "source": [
    "#Create the training data set\n",
    "#Create the scaled training data set\n",
    "train_data = scaled_data[0:training_data_len , :]\n",
    "#Split the data into x_train and y_train data sets\n",
    "x_train = []\n",
    "y_train = []\n",
    "\n",
    "for i in range(60, len(train_data)):\n",
    "  x_train.append(train_data[i-60:i, 0])\n",
    "  y_train.append(train_data[i, 0])\n",
    "  if i<= 61:\n",
    "    print(x_train)\n",
    "    print(y_train)\n",
    "    print()"
   ]
  },
  {
   "cell_type": "code",
   "execution_count": 10,
   "metadata": {},
   "outputs": [],
   "source": [
    "#Convert the x_train and y_train to numpy arrays \n",
    "x_train, y_train = np.array(x_train), np.array(y_train)"
   ]
  },
  {
   "cell_type": "code",
   "execution_count": 11,
   "metadata": {},
   "outputs": [
    {
     "data": {
      "text/plain": [
       "(1754, 60, 1)"
      ]
     },
     "execution_count": 11,
     "metadata": {},
     "output_type": "execute_result"
    }
   ],
   "source": [
    "#Reshape the data\n",
    "x_train = np.reshape(x_train, (x_train.shape[0], x_train.shape[1], 1))\n",
    "x_train.shape"
   ]
  },
  {
   "cell_type": "code",
   "execution_count": 12,
   "metadata": {},
   "outputs": [
    {
     "name": "stdout",
     "output_type": "stream",
     "text": [
      "WARNING:tensorflow:From C:\\Users\\rakap\\Anaconda3\\lib\\site-packages\\tensorflow\\python\\framework\\op_def_library.py:263: colocate_with (from tensorflow.python.framework.ops) is deprecated and will be removed in a future version.\n",
      "Instructions for updating:\n",
      "Colocations handled automatically by placer.\n"
     ]
    }
   ],
   "source": [
    "#Build the LSTM model\n",
    "model = Sequential()\n",
    "model.add(LSTM(100, return_sequences=True, input_shape= (x_train.shape[1], 1)))\n",
    "model.add(LSTM(100, return_sequences= False))\n",
    "model.add(Dense(10))\n",
    "model.add(Dense(1))"
   ]
  },
  {
   "cell_type": "code",
   "execution_count": 13,
   "metadata": {},
   "outputs": [],
   "source": [
    "#Compile the model\n",
    "model.compile(optimizer='adam', loss='mean_squared_error')"
   ]
  },
  {
   "cell_type": "code",
   "execution_count": null,
   "metadata": {},
   "outputs": [],
   "source": []
  }
 ],
 "metadata": {
  "kernelspec": {
   "display_name": "Python 3",
   "language": "python",
   "name": "python3"
  },
  "language_info": {
   "codemirror_mode": {
    "name": "ipython",
    "version": 3
   },
   "file_extension": ".py",
   "mimetype": "text/x-python",
   "name": "python",
   "nbconvert_exporter": "python",
   "pygments_lexer": "ipython3",
   "version": "3.7.7"
  }
 },
 "nbformat": 4,
 "nbformat_minor": 4
}
